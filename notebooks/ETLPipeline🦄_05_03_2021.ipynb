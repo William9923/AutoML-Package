{
  "nbformat": 4,
  "nbformat_minor": 0,
  "metadata": {
    "colab": {
      "name": "ETLPipeline🦄 - 05-03-2021.ipynb",
      "provenance": [],
      "collapsed_sections": [
        "Wi9Y4aYvjuJs",
        "HQgva0hPjxNQ"
      ],
      "toc_visible": true,
      "authorship_tag": "ABX9TyOfFuFI2Q9r6rgFarU2jZpt",
      "include_colab_link": true
    },
    "kernelspec": {
      "name": "python3",
      "display_name": "Python 3"
    }
  },
  "cells": [
    {
      "cell_type": "markdown",
      "metadata": {
        "id": "view-in-github",
        "colab_type": "text"
      },
      "source": [
        "<a href=\"https://colab.research.google.com/github/William9923/AutoML-Package/blob/master/notebooks/ETLPipeline%F0%9F%A6%84_05_03_2021.ipynb\" target=\"_parent\"><img src=\"https://colab.research.google.com/assets/colab-badge.svg\" alt=\"Open In Colab\"/></a>"
      ]
    },
    {
      "cell_type": "markdown",
      "metadata": {
        "id": "B6dcCsoXu01U"
      },
      "source": [
        "# ETL Pipeline Design\r\n",
        "\r\n",
        "Goal : \r\n",
        "* Creating PoC for ETL Pipeline using pandas & pygrametl\r\n",
        "* Extract -> check -> clean -> transform -> load into staging area\r\n",
        "\r\n",
        "Done : \r\n",
        "* Date_dim\r\n",
        "* Time_dim\r\n",
        "\r\n",
        "Todo :\r\n",
        "* User_dim\r\n",
        "* Seller_dim\r\n",
        "* Payment_dim\r\n",
        "* Product_dim\r\n",
        "* Feedback_dim\r\n",
        "* Fact_OrderItems\r\n",
        "\r\n",
        "Requirements : \r\n",
        "* pygrametl - 2.6\r\n",
        "*pandas\r\n"
      ]
    },
    {
      "cell_type": "code",
      "metadata": {
        "colab": {
          "base_uri": "https://localhost:8080/"
        },
        "id": "jaXakzkPoLyA",
        "outputId": "19719a80-cfb6-4ffd-c7c3-c1e13fb4d8b0"
      },
      "source": [
        "#ignore warnings\r\n",
        "import warnings\r\n",
        "warnings.filterwarnings('ignore')\r\n",
        "\r\n",
        "from IPython.core.interactiveshell import InteractiveShell\r\n",
        "InteractiveShell.ast_node_interactivity = \"all\"\r\n",
        "\r\n",
        "import pandas as pd\r\n",
        "\r\n",
        "# Load data\r\n",
        "\r\n",
        "print(\"Loading Dataset ...\")\r\n",
        "\r\n",
        "data_folder = \"data/raw/\"\r\n",
        "\r\n",
        "user = pd.read_csv(data_folder + \"user_dataset.csv\")\r\n",
        "order = pd.read_csv(data_folder + \"order_dataset.csv\")\r\n",
        "order_item = pd.read_csv(data_folder + \"order_item_dataset.csv\")\r\n",
        "payment = pd.read_csv(data_folder + \"payment_dataset.csv\")\r\n",
        "products = pd.read_csv(data_folder + \"products_dataset.csv\")\r\n",
        "seller = pd.read_csv(data_folder + \"seller_dataset.csv\")\r\n",
        "feedback = pd.read_csv(data_folder + \"feedback_dataset.csv\")\r\n",
        "\r\n",
        "print(\"Finish...\")"
      ],
      "execution_count": 2,
      "outputs": [
        {
          "output_type": "stream",
          "text": [
            "Loading Dataset ...\n",
            "Finish...\n"
          ],
          "name": "stdout"
        }
      ]
    },
    {
      "cell_type": "markdown",
      "metadata": {
        "id": "Iao66vudjrDC"
      },
      "source": [
        "## ETL Implementation on Staging"
      ]
    },
    {
      "cell_type": "code",
      "metadata": {
        "colab": {
          "base_uri": "https://localhost:8080/"
        },
        "id": "MyLNVUpLl6VV",
        "outputId": "9f016b2a-90e1-4ac9-bf2c-f071c44d240a"
      },
      "source": [
        "from dotenv import load_dotenv\r\n",
        "import os\r\n",
        "load_dotenv()\r\n",
        "\r\n",
        "# OR, the same with increased verbosity\r\n",
        "load_dotenv(verbose=True)\r\n",
        "\r\n",
        "DBNAME= os.getenv(\"DBNAME\")\r\n",
        "HOSTNAME= os.getenv(\"HOSTNAME\")\r\n",
        "USER= os.getenv(\"USER\")\r\n",
        "PASS= os.getenv(\"PASS\")\r\n",
        "STGDBNAME = os.getenv(\"STAGING_DBNAME\")"
      ],
      "execution_count": 4,
      "outputs": [
        {
          "output_type": "execute_result",
          "data": {
            "text/plain": [
              "True"
            ]
          },
          "metadata": {
            "tags": []
          },
          "execution_count": 4
        },
        {
          "output_type": "execute_result",
          "data": {
            "text/plain": [
              "True"
            ]
          },
          "metadata": {
            "tags": []
          },
          "execution_count": 4
        }
      ]
    },
    {
      "cell_type": "code",
      "metadata": {
        "id": "PB_Qs7AlmEyr"
      },
      "source": [
        "import psycopg2\r\n",
        "import pandas as pd\r\n",
        "from sqlalchemy import create_engine\r\n",
        "\r\n",
        "# Create an engine instance\r\n",
        "alchemyEngine = create_engine(f'postgresql+psycopg2://{USER}:{PASS}@{HOSTNAME}/{STGDBNAME}', pool_recycle=3600);\r\n",
        "\r\n",
        "# Connect to PostgreSQL server\r\n",
        "conn  = alchemyEngine.connect();"
      ],
      "execution_count": 59,
      "outputs": []
    },
    {
      "cell_type": "markdown",
      "metadata": {
        "id": "Wi9Y4aYvjuJs"
      },
      "source": [
        "## Date_dim ETL"
      ]
    },
    {
      "cell_type": "markdown",
      "metadata": {
        "id": "UcClxbjKrrcd"
      },
      "source": [
        "### Utility Function"
      ]
    },
    {
      "cell_type": "code",
      "metadata": {
        "id": "TIK60cGzmKkQ"
      },
      "source": [
        "def create_date_dimension(start='2015-01-01', end='2020-12-31'):\r\n",
        "  weekday = {\r\n",
        "      0:\"Monday\",\r\n",
        "      1:\"Tuesday\",\r\n",
        "      2:\"Wednesday\",\r\n",
        "      3:\"Thursday\",\r\n",
        "      4:\"Friday\",\r\n",
        "      5:\"Saturday\",\r\n",
        "      6:\"Sunday\" \r\n",
        "  }\r\n",
        "\r\n",
        "  df = pd.DataFrame({\"date\": pd.date_range(start, end)})\r\n",
        "  df[\"day_name\"] = df.date.dt.dayofweek.map(weekday)\r\n",
        "  df[\"day\"] = df.date.dt.day\r\n",
        "  df[\"month\"] = df.date.dt.month\r\n",
        "  df[\"week\"] = df.date.dt.weekofyear\r\n",
        "  df[\"quarter\"] = df.date.dt.quarter\r\n",
        "  df[\"year\"] = df.date.dt.year\r\n",
        "  df[\"isWeekDay\"] = (df.date.dt.weekday > 4) & (df.date.dt.weekday <= 6)\r\n",
        "  df.insert(0, 'date_id', (df.year.astype(str) + df.month.astype(str).str.zfill(2) + df.day.astype(str).str.zfill(2)).astype(int))\r\n",
        "  return df"
      ],
      "execution_count": 60,
      "outputs": []
    },
    {
      "cell_type": "code",
      "metadata": {
        "id": "OPm0CaJMD3xu"
      },
      "source": [
        "dates = create_date_dimension()\r\n",
        "dates.drop(['date'], axis=1).to_sql('Date_dim', con=conn, if_exists=\"append\", index=False,method=\"multi\")"
      ],
      "execution_count": 70,
      "outputs": []
    },
    {
      "cell_type": "markdown",
      "metadata": {
        "id": "HQgva0hPjxNQ"
      },
      "source": [
        "## Geo_dim ETL\r\n",
        "---\r\n",
        "Obtained from : \r\n",
        "- user_dataset\r\n",
        "- seller_dataset"
      ]
    },
    {
      "cell_type": "code",
      "metadata": {
        "id": "JcQJGI1YGOry"
      },
      "source": [
        "# User\r\n",
        "geolocation_user = user.drop(['user_name'], axis=1)\r\n",
        "geolocation_user.drop_duplicates(subset=['customer_zip_code'], keep=\"last\", \r\n",
        "                                 inplace=True)"
      ],
      "execution_count": 71,
      "outputs": []
    },
    {
      "cell_type": "code",
      "metadata": {
        "id": "OThebKGAHFhj"
      },
      "source": [
        "# Seller\r\n",
        "geolocation_seller = seller.drop(['seller_id'], axis=1)\r\n",
        "geolocation_seller.drop_duplicates(subset=['seller_zip_code'], keep=\"last\", \r\n",
        "                                   inplace=True)"
      ],
      "execution_count": 73,
      "outputs": []
    },
    {
      "cell_type": "code",
      "metadata": {
        "id": "Q3Wiv-TBHRky"
      },
      "source": [
        "geolocation_user.rename(columns= \r\n",
        "                        {'customer_zip_code' : 'zip_code', \r\n",
        "                         'customer_city' : 'city', \r\n",
        "                         'customer_state' : 'state'}\r\n",
        "                        , inplace=True)\r\n",
        "geolocation_seller.rename(columns= \r\n",
        "                        {'seller_zip_code' : 'zip_code', \r\n",
        "                         'seller_city' : 'city', \r\n",
        "                         'seller_state' : 'state'}\r\n",
        "                        , inplace=True)\r\n",
        "geolocation = pd.concat([geolocation_user, geolocation_seller])"
      ],
      "execution_count": 77,
      "outputs": []
    },
    {
      "cell_type": "code",
      "metadata": {
        "id": "nTYUPpszHjBi"
      },
      "source": [
        "# Data checking\r\n",
        "geolocation.drop_duplicates(subset=['zip_code'], keep=\"last\", inplace=True)"
      ],
      "execution_count": 80,
      "outputs": []
    },
    {
      "cell_type": "code",
      "metadata": {
        "colab": {
          "base_uri": "https://localhost:8080/",
          "height": 206
        },
        "id": "6sIYlUyNI017",
        "outputId": "d9603b66-edbb-48c9-ceec-8af02b4897f6"
      },
      "source": [
        "geolocation.head()"
      ],
      "execution_count": 81,
      "outputs": [
        {
          "output_type": "execute_result",
          "data": {
            "text/plain": [
              "     zip_code                  city        state\n",
              "58      85808      KABUPATEN BREBES  JAWA TENGAH\n",
              "85       2175        KOTA TANGERANG       BANTEN\n",
              "103     62016  KOTA JAKARTA SELATAN  DKI JAKARTA\n",
              "175      4723        KOTA TANGERANG       BANTEN\n",
              "176     65430         KOTA SURABAYA   JAWA TIMUR"
            ],
            "text/html": [
              "<div>\n",
              "<style scoped>\n",
              "    .dataframe tbody tr th:only-of-type {\n",
              "        vertical-align: middle;\n",
              "    }\n",
              "\n",
              "    .dataframe tbody tr th {\n",
              "        vertical-align: top;\n",
              "    }\n",
              "\n",
              "    .dataframe thead th {\n",
              "        text-align: right;\n",
              "    }\n",
              "</style>\n",
              "<table border=\"1\" class=\"dataframe\">\n",
              "  <thead>\n",
              "    <tr style=\"text-align: right;\">\n",
              "      <th></th>\n",
              "      <th>zip_code</th>\n",
              "      <th>city</th>\n",
              "      <th>state</th>\n",
              "    </tr>\n",
              "  </thead>\n",
              "  <tbody>\n",
              "    <tr>\n",
              "      <th>58</th>\n",
              "      <td>85808</td>\n",
              "      <td>KABUPATEN BREBES</td>\n",
              "      <td>JAWA TENGAH</td>\n",
              "    </tr>\n",
              "    <tr>\n",
              "      <th>85</th>\n",
              "      <td>2175</td>\n",
              "      <td>KOTA TANGERANG</td>\n",
              "      <td>BANTEN</td>\n",
              "    </tr>\n",
              "    <tr>\n",
              "      <th>103</th>\n",
              "      <td>62016</td>\n",
              "      <td>KOTA JAKARTA SELATAN</td>\n",
              "      <td>DKI JAKARTA</td>\n",
              "    </tr>\n",
              "    <tr>\n",
              "      <th>175</th>\n",
              "      <td>4723</td>\n",
              "      <td>KOTA TANGERANG</td>\n",
              "      <td>BANTEN</td>\n",
              "    </tr>\n",
              "    <tr>\n",
              "      <th>176</th>\n",
              "      <td>65430</td>\n",
              "      <td>KOTA SURABAYA</td>\n",
              "      <td>JAWA TIMUR</td>\n",
              "    </tr>\n",
              "  </tbody>\n",
              "</table>\n",
              "</div>"
            ]
          },
          "metadata": {
            "tags": []
          },
          "execution_count": 81
        }
      ]
    },
    {
      "cell_type": "code",
      "metadata": {
        "id": "jneq1NuUI6st"
      },
      "source": [
        "geolocation.to_sql('Geo_dim', con=conn, if_exists=\"append\", index=False,\r\n",
        "                   method=\"multi\")"
      ],
      "execution_count": 82,
      "outputs": []
    },
    {
      "cell_type": "markdown",
      "metadata": {
        "id": "qH8Utp19vITE"
      },
      "source": [
        "## Question (Customer Subject)\r\n",
        "---\r\n",
        "1. Who is the most valuable customer and what is their lifetime value?\r\n",
        "2. Who is the repeated customer ? What is the characteristic of the repeated customer\r\n",
        "\r\n",
        "Fact Table Design : \r\n",
        "* user_name (identifier)\r\n",
        "* total_spending (metric)\r\n",
        "* num_order(metric)\r\n",
        "* num_order_place (metric)\r\n",
        "* lifetime_feedback_score (metric)\r\n",
        "* last_order (metric)"
      ]
    },
    {
      "cell_type": "markdown",
      "metadata": {
        "id": "ftqTxN53J1Xk"
      },
      "source": [
        "### Customer Fact Table"
      ]
    },
    {
      "cell_type": "code",
      "metadata": {
        "colab": {
          "base_uri": "https://localhost:8080/"
        },
        "id": "TW-ocSVtov8I",
        "outputId": "dd43fe6a-ffaf-42c7-82e5-3017bf1919ea"
      },
      "source": [
        "# create base fact\r\n",
        "cust_fact = pd.DataFrame({\r\n",
        "    'user_name' : user.user_name\r\n",
        "})\r\n",
        "cust_fact.info()"
      ],
      "execution_count": null,
      "outputs": [
        {
          "output_type": "stream",
          "text": [
            "<class 'pandas.core.frame.DataFrame'>\n",
            "RangeIndex: 96096 entries, 0 to 96095\n",
            "Data columns (total 1 columns):\n",
            " #   Column     Non-Null Count  Dtype \n",
            "---  ------     --------------  ----- \n",
            " 0   user_name  96096 non-null  object\n",
            "dtypes: object(1)\n",
            "memory usage: 750.9+ KB\n"
          ],
          "name": "stdout"
        }
      ]
    },
    {
      "cell_type": "code",
      "metadata": {
        "id": "QpuXMefupMGR"
      },
      "source": [
        "order_payment = pd.merge(order, payment, how=\"left\", left_on='order_id', right_on='order_id')\r\n",
        "total_spending = order_payment[['user_name', 'payment_value']].groupby(by=\"user_name\").mean()"
      ],
      "execution_count": null,
      "outputs": []
    },
    {
      "cell_type": "code",
      "metadata": {
        "colab": {
          "base_uri": "https://localhost:8080/",
          "height": 455
        },
        "id": "VIwgpe3KqYeH",
        "outputId": "eb26a2b2-70d2-49c1-f1b6-5cfba9000f99"
      },
      "source": [
        "num_ordering = order.user_name.value_counts().rename_axis('user_name').to_frame('counts')\r\n",
        "num_ordering"
      ],
      "execution_count": null,
      "outputs": [
        {
          "output_type": "execute_result",
          "data": {
            "text/plain": [
              "                                  counts\n",
              "user_name                               \n",
              "8d50f5eadf50201ccdcedfb9e2ac8455      17\n",
              "3e43e6105506432c953e165fb2acf44c       9\n",
              "1b6c7548a2a1f9037c1fd3ddfed95f33       7\n",
              "ca77025e7201e3b30c44b472ff346268       7\n",
              "6469f99c1f9dfae7733b25662e7f1782       7\n",
              "...                                  ...\n",
              "778a607e77be028910e557f6f608611d       1\n",
              "4a4978eb43b834cdf1b044281ac943fd       1\n",
              "6ff1fffdc0177147be8352ef9c3d56ea       1\n",
              "302754b2edd8002c9916b2e3f119bc67       1\n",
              "de60646736f3d1dc30cf120f07634bc7       1\n",
              "\n",
              "[96096 rows x 1 columns]"
            ],
            "text/html": [
              "<div>\n",
              "<style scoped>\n",
              "    .dataframe tbody tr th:only-of-type {\n",
              "        vertical-align: middle;\n",
              "    }\n",
              "\n",
              "    .dataframe tbody tr th {\n",
              "        vertical-align: top;\n",
              "    }\n",
              "\n",
              "    .dataframe thead th {\n",
              "        text-align: right;\n",
              "    }\n",
              "</style>\n",
              "<table border=\"1\" class=\"dataframe\">\n",
              "  <thead>\n",
              "    <tr style=\"text-align: right;\">\n",
              "      <th></th>\n",
              "      <th>counts</th>\n",
              "    </tr>\n",
              "    <tr>\n",
              "      <th>user_name</th>\n",
              "      <th></th>\n",
              "    </tr>\n",
              "  </thead>\n",
              "  <tbody>\n",
              "    <tr>\n",
              "      <th>8d50f5eadf50201ccdcedfb9e2ac8455</th>\n",
              "      <td>17</td>\n",
              "    </tr>\n",
              "    <tr>\n",
              "      <th>3e43e6105506432c953e165fb2acf44c</th>\n",
              "      <td>9</td>\n",
              "    </tr>\n",
              "    <tr>\n",
              "      <th>1b6c7548a2a1f9037c1fd3ddfed95f33</th>\n",
              "      <td>7</td>\n",
              "    </tr>\n",
              "    <tr>\n",
              "      <th>ca77025e7201e3b30c44b472ff346268</th>\n",
              "      <td>7</td>\n",
              "    </tr>\n",
              "    <tr>\n",
              "      <th>6469f99c1f9dfae7733b25662e7f1782</th>\n",
              "      <td>7</td>\n",
              "    </tr>\n",
              "    <tr>\n",
              "      <th>...</th>\n",
              "      <td>...</td>\n",
              "    </tr>\n",
              "    <tr>\n",
              "      <th>778a607e77be028910e557f6f608611d</th>\n",
              "      <td>1</td>\n",
              "    </tr>\n",
              "    <tr>\n",
              "      <th>4a4978eb43b834cdf1b044281ac943fd</th>\n",
              "      <td>1</td>\n",
              "    </tr>\n",
              "    <tr>\n",
              "      <th>6ff1fffdc0177147be8352ef9c3d56ea</th>\n",
              "      <td>1</td>\n",
              "    </tr>\n",
              "    <tr>\n",
              "      <th>302754b2edd8002c9916b2e3f119bc67</th>\n",
              "      <td>1</td>\n",
              "    </tr>\n",
              "    <tr>\n",
              "      <th>de60646736f3d1dc30cf120f07634bc7</th>\n",
              "      <td>1</td>\n",
              "    </tr>\n",
              "  </tbody>\n",
              "</table>\n",
              "<p>96096 rows × 1 columns</p>\n",
              "</div>"
            ]
          },
          "metadata": {
            "tags": []
          },
          "execution_count": 24
        }
      ]
    },
    {
      "cell_type": "code",
      "metadata": {
        "colab": {
          "base_uri": "https://localhost:8080/",
          "height": 455
        },
        "id": "SfyaOttPqmbh",
        "outputId": "525b2580-5371-4a51-f0d1-386415e67966"
      },
      "source": [
        "num_ordering_place = order[['user_name', 'send_city']].groupby(by=\"user_name\").count()\r\n",
        "num_ordering_place"
      ],
      "execution_count": null,
      "outputs": [
        {
          "output_type": "execute_result",
          "data": {
            "text/plain": [
              "                                  send_city\n",
              "user_name                                  \n",
              "0000366f3b9a7992bf8c76cfdf3221e2          1\n",
              "0000b849f77a49e4a4ce2b2a4ca5be3f          1\n",
              "0000f46a3911fa3c0805444483337064          1\n",
              "0000f6ccb0745a6a4b88665a16c9f078          1\n",
              "0004aac84e0df4da2b147fca70cf8255          1\n",
              "...                                     ...\n",
              "fffcf5a5ff07b0908bd4e2dbc735a684          1\n",
              "fffea47cd6d3cc0a88bd621562a9d061          1\n",
              "ffff371b4d645b6ecea244b27531430a          1\n",
              "ffff5962728ec6157033ef9805bacc48          1\n",
              "ffffd2657e2aad2907e67c3e9daecbeb          1\n",
              "\n",
              "[96096 rows x 1 columns]"
            ],
            "text/html": [
              "<div>\n",
              "<style scoped>\n",
              "    .dataframe tbody tr th:only-of-type {\n",
              "        vertical-align: middle;\n",
              "    }\n",
              "\n",
              "    .dataframe tbody tr th {\n",
              "        vertical-align: top;\n",
              "    }\n",
              "\n",
              "    .dataframe thead th {\n",
              "        text-align: right;\n",
              "    }\n",
              "</style>\n",
              "<table border=\"1\" class=\"dataframe\">\n",
              "  <thead>\n",
              "    <tr style=\"text-align: right;\">\n",
              "      <th></th>\n",
              "      <th>send_city</th>\n",
              "    </tr>\n",
              "    <tr>\n",
              "      <th>user_name</th>\n",
              "      <th></th>\n",
              "    </tr>\n",
              "  </thead>\n",
              "  <tbody>\n",
              "    <tr>\n",
              "      <th>0000366f3b9a7992bf8c76cfdf3221e2</th>\n",
              "      <td>1</td>\n",
              "    </tr>\n",
              "    <tr>\n",
              "      <th>0000b849f77a49e4a4ce2b2a4ca5be3f</th>\n",
              "      <td>1</td>\n",
              "    </tr>\n",
              "    <tr>\n",
              "      <th>0000f46a3911fa3c0805444483337064</th>\n",
              "      <td>1</td>\n",
              "    </tr>\n",
              "    <tr>\n",
              "      <th>0000f6ccb0745a6a4b88665a16c9f078</th>\n",
              "      <td>1</td>\n",
              "    </tr>\n",
              "    <tr>\n",
              "      <th>0004aac84e0df4da2b147fca70cf8255</th>\n",
              "      <td>1</td>\n",
              "    </tr>\n",
              "    <tr>\n",
              "      <th>...</th>\n",
              "      <td>...</td>\n",
              "    </tr>\n",
              "    <tr>\n",
              "      <th>fffcf5a5ff07b0908bd4e2dbc735a684</th>\n",
              "      <td>1</td>\n",
              "    </tr>\n",
              "    <tr>\n",
              "      <th>fffea47cd6d3cc0a88bd621562a9d061</th>\n",
              "      <td>1</td>\n",
              "    </tr>\n",
              "    <tr>\n",
              "      <th>ffff371b4d645b6ecea244b27531430a</th>\n",
              "      <td>1</td>\n",
              "    </tr>\n",
              "    <tr>\n",
              "      <th>ffff5962728ec6157033ef9805bacc48</th>\n",
              "      <td>1</td>\n",
              "    </tr>\n",
              "    <tr>\n",
              "      <th>ffffd2657e2aad2907e67c3e9daecbeb</th>\n",
              "      <td>1</td>\n",
              "    </tr>\n",
              "  </tbody>\n",
              "</table>\n",
              "<p>96096 rows × 1 columns</p>\n",
              "</div>"
            ]
          },
          "metadata": {
            "tags": []
          },
          "execution_count": 19
        }
      ]
    },
    {
      "cell_type": "code",
      "metadata": {
        "id": "KaO_bVYNs-Dx"
      },
      "source": [
        "order_feedback = pd.merge(order, feedback, how=\"left\", left_on='order_id', right_on='order_id')\r\n",
        "feedback_user_score = order_feedback[['user_name', 'feedback_score']].groupby(by=\"user_name\").mean()"
      ],
      "execution_count": null,
      "outputs": []
    },
    {
      "cell_type": "code",
      "metadata": {
        "colab": {
          "base_uri": "https://localhost:8080/"
        },
        "id": "wpnUJ2TCtbvq",
        "outputId": "b8b0618b-9a68-4290-f715-8dbc4dd975d7"
      },
      "source": [
        "cust_fact_updated = pd.merge(cust_fact, total_spending, how=\"left\", left_on=\"user_name\", right_on=\"user_name\")\r\n",
        "cust_fact_updated = pd.merge(cust_fact_updated, num_ordering, how=\"left\", left_on=\"user_name\", right_on=\"user_name\")\r\n",
        "cust_fact_updated = pd.merge(cust_fact_updated, num_ordering_place, how=\"left\", left_on=\"user_name\", right_on=\"user_name\")\r\n",
        "cust_fact_updated = pd.merge(cust_fact_updated, feedback_user_score, how=\"left\", left_on=\"user_name\", right_on=\"user_name\")\r\n",
        "cust_fact_updated.info()"
      ],
      "execution_count": null,
      "outputs": [
        {
          "output_type": "stream",
          "text": [
            "<class 'pandas.core.frame.DataFrame'>\n",
            "Int64Index: 96096 entries, 0 to 96095\n",
            "Data columns (total 5 columns):\n",
            " #   Column          Non-Null Count  Dtype  \n",
            "---  ------          --------------  -----  \n",
            " 0   user_name       96096 non-null  object \n",
            " 1   payment_value   96095 non-null  float64\n",
            " 2   counts          96096 non-null  int64  \n",
            " 3   send_city       96096 non-null  int64  \n",
            " 4   feedback_score  96096 non-null  float64\n",
            "dtypes: float64(2), int64(2), object(1)\n",
            "memory usage: 4.4+ MB\n"
          ],
          "name": "stdout"
        }
      ]
    },
    {
      "cell_type": "code",
      "metadata": {
        "colab": {
          "base_uri": "https://localhost:8080/",
          "height": 363
        },
        "id": "q2WyRunTuV2o",
        "outputId": "d48f6a41-1512-4054-9340-774364de9c9a"
      },
      "source": [
        "cust_fact_updated.head(10)"
      ],
      "execution_count": null,
      "outputs": [
        {
          "output_type": "execute_result",
          "data": {
            "text/plain": [
              "                          user_name  payment_value  counts  send_city  \\\n",
              "0  861eff4711a542e4b93843c6dd7febb0       146870.0       1          1   \n",
              "1  290c77bc529b7ac935b93aa66c333dc3       335480.0       1          1   \n",
              "2  060e732b5b29e8181a18229c7b0b2b5e       157730.0       1          1   \n",
              "3  259dac757896d24d7702b9acbbff3f3c       173300.0       1          1   \n",
              "4  345ecd01c38d18a9036ed96c73b8d066       252250.0       1          1   \n",
              "5  addec96d2e059c80c30fe6871d30d177        22770.0       1          1   \n",
              "6  57b2a98a409812fe9618067b6b8ebe4f        36010.0       1          1   \n",
              "7  9afe194fb833f79e300e37e580171f22       122470.0       1          1   \n",
              "8  2a7745e1ed516b289ed9b29c7d0539a5        40400.0       1          1   \n",
              "9  2a46fb94aef5cbeeb850418118cee090       153130.0       1          1   \n",
              "\n",
              "   feedback_score  \n",
              "0             4.0  \n",
              "1             5.0  \n",
              "2             5.0  \n",
              "3             5.0  \n",
              "4             5.0  \n",
              "5             5.0  \n",
              "6             3.0  \n",
              "7             5.0  \n",
              "8             5.0  \n",
              "9             5.0  "
            ],
            "text/html": [
              "<div>\n",
              "<style scoped>\n",
              "    .dataframe tbody tr th:only-of-type {\n",
              "        vertical-align: middle;\n",
              "    }\n",
              "\n",
              "    .dataframe tbody tr th {\n",
              "        vertical-align: top;\n",
              "    }\n",
              "\n",
              "    .dataframe thead th {\n",
              "        text-align: right;\n",
              "    }\n",
              "</style>\n",
              "<table border=\"1\" class=\"dataframe\">\n",
              "  <thead>\n",
              "    <tr style=\"text-align: right;\">\n",
              "      <th></th>\n",
              "      <th>user_name</th>\n",
              "      <th>payment_value</th>\n",
              "      <th>counts</th>\n",
              "      <th>send_city</th>\n",
              "      <th>feedback_score</th>\n",
              "    </tr>\n",
              "  </thead>\n",
              "  <tbody>\n",
              "    <tr>\n",
              "      <th>0</th>\n",
              "      <td>861eff4711a542e4b93843c6dd7febb0</td>\n",
              "      <td>146870.0</td>\n",
              "      <td>1</td>\n",
              "      <td>1</td>\n",
              "      <td>4.0</td>\n",
              "    </tr>\n",
              "    <tr>\n",
              "      <th>1</th>\n",
              "      <td>290c77bc529b7ac935b93aa66c333dc3</td>\n",
              "      <td>335480.0</td>\n",
              "      <td>1</td>\n",
              "      <td>1</td>\n",
              "      <td>5.0</td>\n",
              "    </tr>\n",
              "    <tr>\n",
              "      <th>2</th>\n",
              "      <td>060e732b5b29e8181a18229c7b0b2b5e</td>\n",
              "      <td>157730.0</td>\n",
              "      <td>1</td>\n",
              "      <td>1</td>\n",
              "      <td>5.0</td>\n",
              "    </tr>\n",
              "    <tr>\n",
              "      <th>3</th>\n",
              "      <td>259dac757896d24d7702b9acbbff3f3c</td>\n",
              "      <td>173300.0</td>\n",
              "      <td>1</td>\n",
              "      <td>1</td>\n",
              "      <td>5.0</td>\n",
              "    </tr>\n",
              "    <tr>\n",
              "      <th>4</th>\n",
              "      <td>345ecd01c38d18a9036ed96c73b8d066</td>\n",
              "      <td>252250.0</td>\n",
              "      <td>1</td>\n",
              "      <td>1</td>\n",
              "      <td>5.0</td>\n",
              "    </tr>\n",
              "    <tr>\n",
              "      <th>5</th>\n",
              "      <td>addec96d2e059c80c30fe6871d30d177</td>\n",
              "      <td>22770.0</td>\n",
              "      <td>1</td>\n",
              "      <td>1</td>\n",
              "      <td>5.0</td>\n",
              "    </tr>\n",
              "    <tr>\n",
              "      <th>6</th>\n",
              "      <td>57b2a98a409812fe9618067b6b8ebe4f</td>\n",
              "      <td>36010.0</td>\n",
              "      <td>1</td>\n",
              "      <td>1</td>\n",
              "      <td>3.0</td>\n",
              "    </tr>\n",
              "    <tr>\n",
              "      <th>7</th>\n",
              "      <td>9afe194fb833f79e300e37e580171f22</td>\n",
              "      <td>122470.0</td>\n",
              "      <td>1</td>\n",
              "      <td>1</td>\n",
              "      <td>5.0</td>\n",
              "    </tr>\n",
              "    <tr>\n",
              "      <th>8</th>\n",
              "      <td>2a7745e1ed516b289ed9b29c7d0539a5</td>\n",
              "      <td>40400.0</td>\n",
              "      <td>1</td>\n",
              "      <td>1</td>\n",
              "      <td>5.0</td>\n",
              "    </tr>\n",
              "    <tr>\n",
              "      <th>9</th>\n",
              "      <td>2a46fb94aef5cbeeb850418118cee090</td>\n",
              "      <td>153130.0</td>\n",
              "      <td>1</td>\n",
              "      <td>1</td>\n",
              "      <td>5.0</td>\n",
              "    </tr>\n",
              "  </tbody>\n",
              "</table>\n",
              "</div>"
            ]
          },
          "metadata": {
            "tags": []
          },
          "execution_count": 26
        }
      ]
    },
    {
      "cell_type": "markdown",
      "metadata": {
        "id": "95NkBroHzTrA"
      },
      "source": [
        "## Question (Product Subject)\r\n",
        "1. Which product is the most popular ? \r\n",
        "2. What product type that associate each other best? \r\n",
        "3. How long a product is being shipped?\r\n",
        "\r\n",
        "Fact Table Design : \r\n",
        "* product_id (identifier\r\n",
        "* num_bought\r\n",
        "* avg_price_per_unit\r\n",
        "* avg_shipping_time\r\n",
        "* avg_rating\r\n",
        "* num_return"
      ]
    },
    {
      "cell_type": "markdown",
      "metadata": {
        "id": "vClaYGhp3c3e"
      },
      "source": [
        "### Product Fact Table"
      ]
    },
    {
      "cell_type": "code",
      "metadata": {
        "colab": {
          "base_uri": "https://localhost:8080/"
        },
        "id": "PjUN6wBtucCA",
        "outputId": "6f3621eb-a376-4245-a7ac-ef1000ba82a8"
      },
      "source": [
        "# create base fact\r\n",
        "prod_fact = pd.DataFrame({\r\n",
        "    'product_id' : products.product_id\r\n",
        "})\r\n",
        "prod_fact.info()"
      ],
      "execution_count": null,
      "outputs": [
        {
          "output_type": "stream",
          "text": [
            "<class 'pandas.core.frame.DataFrame'>\n",
            "RangeIndex: 32951 entries, 0 to 32950\n",
            "Data columns (total 1 columns):\n",
            " #   Column      Non-Null Count  Dtype \n",
            "---  ------      --------------  ----- \n",
            " 0   product_id  32951 non-null  object\n",
            "dtypes: object(1)\n",
            "memory usage: 257.6+ KB\n"
          ],
          "name": "stdout"
        }
      ]
    },
    {
      "cell_type": "code",
      "metadata": {
        "colab": {
          "base_uri": "https://localhost:8080/",
          "height": 237
        },
        "id": "oGQgEQrBuj8T",
        "outputId": "2c81e72c-16a1-4aec-a6f9-b7f4cbfe125f"
      },
      "source": [
        "num_bought = order_item[['order_item_id','product_id']].groupby('product_id').count()\r\n",
        "num_bought.rename(columns={'order_item_id':'num_bought'}, inplace=True)\r\n",
        "num_bought.head()"
      ],
      "execution_count": null,
      "outputs": [
        {
          "output_type": "execute_result",
          "data": {
            "text/plain": [
              "                                  num_bought\n",
              "product_id                                  \n",
              "00066f42aeeb9f3007548bb9d3f33c38           1\n",
              "00088930e925c41fd95ebfe695fd2655           1\n",
              "0009406fd7479715e4bef61dd91f2462           1\n",
              "000b8f95fcb9e0096488278317764d19           2\n",
              "000d9be29b5207b54e86aa1b1ac54872           1"
            ],
            "text/html": [
              "<div>\n",
              "<style scoped>\n",
              "    .dataframe tbody tr th:only-of-type {\n",
              "        vertical-align: middle;\n",
              "    }\n",
              "\n",
              "    .dataframe tbody tr th {\n",
              "        vertical-align: top;\n",
              "    }\n",
              "\n",
              "    .dataframe thead th {\n",
              "        text-align: right;\n",
              "    }\n",
              "</style>\n",
              "<table border=\"1\" class=\"dataframe\">\n",
              "  <thead>\n",
              "    <tr style=\"text-align: right;\">\n",
              "      <th></th>\n",
              "      <th>num_bought</th>\n",
              "    </tr>\n",
              "    <tr>\n",
              "      <th>product_id</th>\n",
              "      <th></th>\n",
              "    </tr>\n",
              "  </thead>\n",
              "  <tbody>\n",
              "    <tr>\n",
              "      <th>00066f42aeeb9f3007548bb9d3f33c38</th>\n",
              "      <td>1</td>\n",
              "    </tr>\n",
              "    <tr>\n",
              "      <th>00088930e925c41fd95ebfe695fd2655</th>\n",
              "      <td>1</td>\n",
              "    </tr>\n",
              "    <tr>\n",
              "      <th>0009406fd7479715e4bef61dd91f2462</th>\n",
              "      <td>1</td>\n",
              "    </tr>\n",
              "    <tr>\n",
              "      <th>000b8f95fcb9e0096488278317764d19</th>\n",
              "      <td>2</td>\n",
              "    </tr>\n",
              "    <tr>\n",
              "      <th>000d9be29b5207b54e86aa1b1ac54872</th>\n",
              "      <td>1</td>\n",
              "    </tr>\n",
              "  </tbody>\n",
              "</table>\n",
              "</div>"
            ]
          },
          "metadata": {
            "tags": []
          },
          "execution_count": 54
        }
      ]
    },
    {
      "cell_type": "code",
      "metadata": {
        "colab": {
          "base_uri": "https://localhost:8080/",
          "height": 237
        },
        "id": "puXA0YJjvFdi",
        "outputId": "a0541fee-51db-4912-d135-7824fceb023e"
      },
      "source": [
        "prod_price = order_item[['product_id', 'price']].groupby('product_id').mean()\r\n",
        "prod_price.rename(columns={'price':'avg_price'}, inplace=True)\r\n",
        "prod_price.head()"
      ],
      "execution_count": null,
      "outputs": [
        {
          "output_type": "execute_result",
          "data": {
            "text/plain": [
              "                                  avg_price\n",
              "product_id                                 \n",
              "00066f42aeeb9f3007548bb9d3f33c38   101650.0\n",
              "00088930e925c41fd95ebfe695fd2655   129900.0\n",
              "0009406fd7479715e4bef61dd91f2462   229000.0\n",
              "000b8f95fcb9e0096488278317764d19    58900.0\n",
              "000d9be29b5207b54e86aa1b1ac54872   199000.0"
            ],
            "text/html": [
              "<div>\n",
              "<style scoped>\n",
              "    .dataframe tbody tr th:only-of-type {\n",
              "        vertical-align: middle;\n",
              "    }\n",
              "\n",
              "    .dataframe tbody tr th {\n",
              "        vertical-align: top;\n",
              "    }\n",
              "\n",
              "    .dataframe thead th {\n",
              "        text-align: right;\n",
              "    }\n",
              "</style>\n",
              "<table border=\"1\" class=\"dataframe\">\n",
              "  <thead>\n",
              "    <tr style=\"text-align: right;\">\n",
              "      <th></th>\n",
              "      <th>avg_price</th>\n",
              "    </tr>\n",
              "    <tr>\n",
              "      <th>product_id</th>\n",
              "      <th></th>\n",
              "    </tr>\n",
              "  </thead>\n",
              "  <tbody>\n",
              "    <tr>\n",
              "      <th>00066f42aeeb9f3007548bb9d3f33c38</th>\n",
              "      <td>101650.0</td>\n",
              "    </tr>\n",
              "    <tr>\n",
              "      <th>00088930e925c41fd95ebfe695fd2655</th>\n",
              "      <td>129900.0</td>\n",
              "    </tr>\n",
              "    <tr>\n",
              "      <th>0009406fd7479715e4bef61dd91f2462</th>\n",
              "      <td>229000.0</td>\n",
              "    </tr>\n",
              "    <tr>\n",
              "      <th>000b8f95fcb9e0096488278317764d19</th>\n",
              "      <td>58900.0</td>\n",
              "    </tr>\n",
              "    <tr>\n",
              "      <th>000d9be29b5207b54e86aa1b1ac54872</th>\n",
              "      <td>199000.0</td>\n",
              "    </tr>\n",
              "  </tbody>\n",
              "</table>\n",
              "</div>"
            ]
          },
          "metadata": {
            "tags": []
          },
          "execution_count": 55
        }
      ]
    },
    {
      "cell_type": "code",
      "metadata": {
        "id": "77bmGS4UvUzg"
      },
      "source": [
        "from datetime import datetime\r\n",
        "dateparse = lambda x: datetime.strptime(x, '%Y-%m-%d %H:%M:%S')\r\n",
        "\r\n",
        "merged = pd.merge(order, order_item, how=\"right\", left_on='order_id', right_on='order_id')\r\n",
        "\r\n",
        "merged['isReturned'] = merged['delivered_date'].isnull()\r\n",
        "merged['order_date_parsed'] = merged.apply(\r\n",
        "    lambda x : dateparse(x['order_date']),\r\n",
        "    axis=1\r\n",
        ")\r\n",
        "\r\n",
        "merged['delivered_date_parsed'] = merged.apply(\r\n",
        "    lambda x : x['delivered_date'] if pd.isnull(x['delivered_date']) else dateparse(x['delivered_date']),\r\n",
        "    axis=1\r\n",
        ")\r\n",
        "merged['estimated_time_delivery_parsed'] = merged.apply(\r\n",
        "    lambda x : dateparse(x['estimated_time_delivery']),\r\n",
        "    axis=1\r\n",
        ")"
      ],
      "execution_count": null,
      "outputs": []
    },
    {
      "cell_type": "code",
      "metadata": {
        "id": "PPKcOvYI1zo5"
      },
      "source": [
        "import numpy as np\r\n",
        "merged['order_duration'] = merged.apply(\r\n",
        "    lambda x : x['delivered_date_parsed'] - x['order_date_parsed'] if not x['isReturned'] else 0,\r\n",
        "    axis = 1\r\n",
        ")\r\n",
        "\r\n",
        "merged['order_duration'] = merged['order_duration'].astype('timedelta64[D]') / np.timedelta64(1, 'h')"
      ],
      "execution_count": null,
      "outputs": []
    },
    {
      "cell_type": "code",
      "metadata": {
        "id": "mQueDTJV3Iuy"
      },
      "source": [
        "order_feedback = pd.merge(merged, feedback, how=\"left\", left_on='order_id', right_on='order_id')\r\n",
        "feedback_product_score = order_feedback[['product_id', 'feedback_score']].groupby(by=\"product_id\").mean()"
      ],
      "execution_count": null,
      "outputs": []
    },
    {
      "cell_type": "code",
      "metadata": {
        "id": "dBLeG-dN7cyt"
      },
      "source": [
        "aggr_merged = merged[['product_id','order_duration', 'isReturned']].groupby(by='product_id') \\\r\n",
        "  .agg({'order_duration' : 'mean', 'isReturned' : 'sum'}) \\\r\n",
        "  .rename(columns={'order_duration':'avg_shipping_time', 'isReturned' : 'num_return' })"
      ],
      "execution_count": null,
      "outputs": []
    },
    {
      "cell_type": "code",
      "metadata": {
        "colab": {
          "base_uri": "https://localhost:8080/",
          "height": 206
        },
        "id": "CauWH79k3YQT",
        "outputId": "130a631e-e8cf-4cfe-a14f-955ffed0769c"
      },
      "source": [
        "prod_fact_updated = pd.merge(prod_fact, num_bought, how=\"left\", left_on=\"product_id\", right_on=\"product_id\")\r\n",
        "prod_fact_updated = pd.merge(prod_fact_updated, prod_price, how=\"left\", left_on=\"product_id\", right_on=\"product_id\")\r\n",
        "prod_fact_updated = pd.merge(prod_fact_updated, aggr_merged, how=\"left\", left_on=\"product_id\", right_on=\"product_id\")\r\n",
        "prod_fact_updated = pd.merge(prod_fact_updated, feedback_product_score, how=\"left\", left_on=\"product_id\", right_on=\"product_id\")\r\n",
        "prod_fact_updated.head()"
      ],
      "execution_count": null,
      "outputs": [
        {
          "output_type": "execute_result",
          "data": {
            "text/plain": [
              "                         product_id  num_bought  avg_price  avg_shipping_time  \\\n",
              "0  1e9e8ef04dbcff4541ed26657ea517e5           1    10910.0               72.0   \n",
              "1  3aa071139cb16b67ca9e5dea641aaa2f           1   248000.0              360.0   \n",
              "2  96bd76ec8810374ed1b65e291975717f           1    79800.0               48.0   \n",
              "3  cef67bcfe19066a932b7673e239eb23d           1   112300.0               72.0   \n",
              "4  9dc1a7de274444849c219cff195d0b71           1    37900.0               48.0   \n",
              "\n",
              "   num_return  feedback_score  \n",
              "0           0             5.0  \n",
              "1           0             5.0  \n",
              "2           0             5.0  \n",
              "3           0             1.0  \n",
              "4           0             5.0  "
            ],
            "text/html": [
              "<div>\n",
              "<style scoped>\n",
              "    .dataframe tbody tr th:only-of-type {\n",
              "        vertical-align: middle;\n",
              "    }\n",
              "\n",
              "    .dataframe tbody tr th {\n",
              "        vertical-align: top;\n",
              "    }\n",
              "\n",
              "    .dataframe thead th {\n",
              "        text-align: right;\n",
              "    }\n",
              "</style>\n",
              "<table border=\"1\" class=\"dataframe\">\n",
              "  <thead>\n",
              "    <tr style=\"text-align: right;\">\n",
              "      <th></th>\n",
              "      <th>product_id</th>\n",
              "      <th>num_bought</th>\n",
              "      <th>avg_price</th>\n",
              "      <th>avg_shipping_time</th>\n",
              "      <th>num_return</th>\n",
              "      <th>feedback_score</th>\n",
              "    </tr>\n",
              "  </thead>\n",
              "  <tbody>\n",
              "    <tr>\n",
              "      <th>0</th>\n",
              "      <td>1e9e8ef04dbcff4541ed26657ea517e5</td>\n",
              "      <td>1</td>\n",
              "      <td>10910.0</td>\n",
              "      <td>72.0</td>\n",
              "      <td>0</td>\n",
              "      <td>5.0</td>\n",
              "    </tr>\n",
              "    <tr>\n",
              "      <th>1</th>\n",
              "      <td>3aa071139cb16b67ca9e5dea641aaa2f</td>\n",
              "      <td>1</td>\n",
              "      <td>248000.0</td>\n",
              "      <td>360.0</td>\n",
              "      <td>0</td>\n",
              "      <td>5.0</td>\n",
              "    </tr>\n",
              "    <tr>\n",
              "      <th>2</th>\n",
              "      <td>96bd76ec8810374ed1b65e291975717f</td>\n",
              "      <td>1</td>\n",
              "      <td>79800.0</td>\n",
              "      <td>48.0</td>\n",
              "      <td>0</td>\n",
              "      <td>5.0</td>\n",
              "    </tr>\n",
              "    <tr>\n",
              "      <th>3</th>\n",
              "      <td>cef67bcfe19066a932b7673e239eb23d</td>\n",
              "      <td>1</td>\n",
              "      <td>112300.0</td>\n",
              "      <td>72.0</td>\n",
              "      <td>0</td>\n",
              "      <td>1.0</td>\n",
              "    </tr>\n",
              "    <tr>\n",
              "      <th>4</th>\n",
              "      <td>9dc1a7de274444849c219cff195d0b71</td>\n",
              "      <td>1</td>\n",
              "      <td>37900.0</td>\n",
              "      <td>48.0</td>\n",
              "      <td>0</td>\n",
              "      <td>5.0</td>\n",
              "    </tr>\n",
              "  </tbody>\n",
              "</table>\n",
              "</div>"
            ]
          },
          "metadata": {
            "tags": []
          },
          "execution_count": 77
        }
      ]
    },
    {
      "cell_type": "markdown",
      "metadata": {
        "id": "YBfqEtkIH5uI"
      },
      "source": [
        "## Question (Seller Subject)\r\n",
        "1. Who is the most popular seller?\r\n",
        "2. Who is the best rated seller?\r\n",
        "3. How many item a seller sell (lifetime value) ? \r\n",
        "\r\n",
        "Fact Table Design:\r\n",
        "* seller_id (identifier)\r\n",
        "* num_sell \r\n",
        "* avg_approve_time\r\n",
        "* total_sale\r\n",
        "* total_cancel"
      ]
    },
    {
      "cell_type": "markdown",
      "metadata": {
        "id": "-65boXrDJ8_k"
      },
      "source": [
        "### Seller Fact Table"
      ]
    },
    {
      "cell_type": "code",
      "metadata": {
        "colab": {
          "base_uri": "https://localhost:8080/"
        },
        "id": "s6Shk-PivH2d",
        "outputId": "28888f9d-8030-4434-f5df-54db62762abb"
      },
      "source": [
        "# create base fact\r\n",
        "seller_fact = pd.DataFrame({\r\n",
        "    'seller_id' : seller.seller_id\r\n",
        "})\r\n",
        "seller_fact.info()"
      ],
      "execution_count": null,
      "outputs": [
        {
          "output_type": "stream",
          "text": [
            "<class 'pandas.core.frame.DataFrame'>\n",
            "RangeIndex: 3095 entries, 0 to 3094\n",
            "Data columns (total 1 columns):\n",
            " #   Column     Non-Null Count  Dtype \n",
            "---  ------     --------------  ----- \n",
            " 0   seller_id  3095 non-null   object\n",
            "dtypes: object(1)\n",
            "memory usage: 24.3+ KB\n"
          ],
          "name": "stdout"
        }
      ]
    },
    {
      "cell_type": "code",
      "metadata": {
        "colab": {
          "base_uri": "https://localhost:8080/",
          "height": 237
        },
        "id": "OS5OedbAp6MW",
        "outputId": "1f90698f-a719-4a34-e7bf-220b0a9efb8a"
      },
      "source": [
        "num_sell = order_item[['product_id', 'seller_id' ]].groupby('seller_id').count().rename(columns=({'product_id' : 'num_sell'}))\r\n",
        "num_sell.head()"
      ],
      "execution_count": null,
      "outputs": [
        {
          "output_type": "execute_result",
          "data": {
            "text/plain": [
              "                                  num_sell\n",
              "seller_id                                 \n",
              "0015a82c2db000af6aaaf3ae2ecb0532         3\n",
              "001cca7ae9ae17fb1caed9dfb1094831       239\n",
              "001e6ad469a905060d959994f1b41e4f         1\n",
              "002100f778ceb8431b7a1020ff7ab48f        55\n",
              "003554e2dce176b5555353e4f3555ac8         1"
            ],
            "text/html": [
              "<div>\n",
              "<style scoped>\n",
              "    .dataframe tbody tr th:only-of-type {\n",
              "        vertical-align: middle;\n",
              "    }\n",
              "\n",
              "    .dataframe tbody tr th {\n",
              "        vertical-align: top;\n",
              "    }\n",
              "\n",
              "    .dataframe thead th {\n",
              "        text-align: right;\n",
              "    }\n",
              "</style>\n",
              "<table border=\"1\" class=\"dataframe\">\n",
              "  <thead>\n",
              "    <tr style=\"text-align: right;\">\n",
              "      <th></th>\n",
              "      <th>num_sell</th>\n",
              "    </tr>\n",
              "    <tr>\n",
              "      <th>seller_id</th>\n",
              "      <th></th>\n",
              "    </tr>\n",
              "  </thead>\n",
              "  <tbody>\n",
              "    <tr>\n",
              "      <th>0015a82c2db000af6aaaf3ae2ecb0532</th>\n",
              "      <td>3</td>\n",
              "    </tr>\n",
              "    <tr>\n",
              "      <th>001cca7ae9ae17fb1caed9dfb1094831</th>\n",
              "      <td>239</td>\n",
              "    </tr>\n",
              "    <tr>\n",
              "      <th>001e6ad469a905060d959994f1b41e4f</th>\n",
              "      <td>1</td>\n",
              "    </tr>\n",
              "    <tr>\n",
              "      <th>002100f778ceb8431b7a1020ff7ab48f</th>\n",
              "      <td>55</td>\n",
              "    </tr>\n",
              "    <tr>\n",
              "      <th>003554e2dce176b5555353e4f3555ac8</th>\n",
              "      <td>1</td>\n",
              "    </tr>\n",
              "  </tbody>\n",
              "</table>\n",
              "</div>"
            ]
          },
          "metadata": {
            "tags": []
          },
          "execution_count": 79
        }
      ]
    },
    {
      "cell_type": "code",
      "metadata": {
        "id": "AmkuNuY9BAr9"
      },
      "source": [
        "from datetime import datetime\r\n",
        "import numpy as np\r\n",
        "dateparse = lambda x: datetime.strptime(x, '%Y-%m-%d %H:%M:%S')\r\n",
        "\r\n",
        "merged = pd.merge(order, order_item, how=\"right\", left_on='order_id', right_on='order_id')\r\n",
        "\r\n",
        "merged['isCanceled'] = merged['order_approved_date'].isnull()\r\n",
        "\r\n",
        "merged['order_date_parsed'] = merged.apply(\r\n",
        "    lambda x : dateparse(x['order_date']),\r\n",
        "    axis=1\r\n",
        ")\r\n",
        "\r\n",
        "merged['order_approved_date_parsed'] = merged.apply(\r\n",
        "    lambda x : x['order_approved_date'] if pd.isnull(x['order_approved_date']) else dateparse(x['order_approved_date']),\r\n",
        "    axis=1\r\n",
        ")\r\n",
        "\r\n",
        "merged['approve_time'] = merged.apply(\r\n",
        "    lambda x : x['order_approved_date_parsed'] - x['order_date_parsed'] if not x['isCanceled'] else 0,\r\n",
        "    axis = 1\r\n",
        ")\r\n",
        "\r\n",
        "merged['approve_time'] = merged['approve_time'].astype('timedelta64[D]') / np.timedelta64(1, 'h')"
      ],
      "execution_count": null,
      "outputs": []
    },
    {
      "cell_type": "code",
      "metadata": {
        "colab": {
          "base_uri": "https://localhost:8080/",
          "height": 237
        },
        "id": "nJo9lflRGjaZ",
        "outputId": "80e6ffdd-f45e-4106-8ea5-63849e2160ae"
      },
      "source": [
        "aggr_merged = merged[['seller_id','approve_time', 'isCanceled', 'price']].groupby(by='seller_id') \\\r\n",
        "  .agg({'approve_time' : 'mean', 'isCanceled' : 'sum', 'price' : 'sum'}) \\\r\n",
        "  .rename(columns={'approve_time':'avg_approve_time', 'isCanceled' : 'num_cancel', 'price' : 'total_sales' })\r\n",
        "\r\n",
        "aggr_merged.head()"
      ],
      "execution_count": null,
      "outputs": [
        {
          "output_type": "execute_result",
          "data": {
            "text/plain": [
              "                                  avg_approve_time  num_cancel  total_sales\n",
              "seller_id                                                                  \n",
              "0015a82c2db000af6aaaf3ae2ecb0532          8.000000           0    2685000.0\n",
              "001cca7ae9ae17fb1caed9dfb1094831          6.828452           0   25080030.0\n",
              "001e6ad469a905060d959994f1b41e4f          0.000000           0     250000.0\n",
              "002100f778ceb8431b7a1020ff7ab48f         17.454545           0    1234500.0\n",
              "003554e2dce176b5555353e4f3555ac8          0.000000           0     120000.0"
            ],
            "text/html": [
              "<div>\n",
              "<style scoped>\n",
              "    .dataframe tbody tr th:only-of-type {\n",
              "        vertical-align: middle;\n",
              "    }\n",
              "\n",
              "    .dataframe tbody tr th {\n",
              "        vertical-align: top;\n",
              "    }\n",
              "\n",
              "    .dataframe thead th {\n",
              "        text-align: right;\n",
              "    }\n",
              "</style>\n",
              "<table border=\"1\" class=\"dataframe\">\n",
              "  <thead>\n",
              "    <tr style=\"text-align: right;\">\n",
              "      <th></th>\n",
              "      <th>avg_approve_time</th>\n",
              "      <th>num_cancel</th>\n",
              "      <th>total_sales</th>\n",
              "    </tr>\n",
              "    <tr>\n",
              "      <th>seller_id</th>\n",
              "      <th></th>\n",
              "      <th></th>\n",
              "      <th></th>\n",
              "    </tr>\n",
              "  </thead>\n",
              "  <tbody>\n",
              "    <tr>\n",
              "      <th>0015a82c2db000af6aaaf3ae2ecb0532</th>\n",
              "      <td>8.000000</td>\n",
              "      <td>0</td>\n",
              "      <td>2685000.0</td>\n",
              "    </tr>\n",
              "    <tr>\n",
              "      <th>001cca7ae9ae17fb1caed9dfb1094831</th>\n",
              "      <td>6.828452</td>\n",
              "      <td>0</td>\n",
              "      <td>25080030.0</td>\n",
              "    </tr>\n",
              "    <tr>\n",
              "      <th>001e6ad469a905060d959994f1b41e4f</th>\n",
              "      <td>0.000000</td>\n",
              "      <td>0</td>\n",
              "      <td>250000.0</td>\n",
              "    </tr>\n",
              "    <tr>\n",
              "      <th>002100f778ceb8431b7a1020ff7ab48f</th>\n",
              "      <td>17.454545</td>\n",
              "      <td>0</td>\n",
              "      <td>1234500.0</td>\n",
              "    </tr>\n",
              "    <tr>\n",
              "      <th>003554e2dce176b5555353e4f3555ac8</th>\n",
              "      <td>0.000000</td>\n",
              "      <td>0</td>\n",
              "      <td>120000.0</td>\n",
              "    </tr>\n",
              "  </tbody>\n",
              "</table>\n",
              "</div>"
            ]
          },
          "metadata": {
            "tags": []
          },
          "execution_count": 82
        }
      ]
    },
    {
      "cell_type": "code",
      "metadata": {
        "colab": {
          "base_uri": "https://localhost:8080/",
          "height": 206
        },
        "id": "M4uf0uNEHTHA",
        "outputId": "30b9d131-b4f7-46ad-9388-f73e7c29ba49"
      },
      "source": [
        "seller_fact_updated = pd.merge(seller_fact, num_sell, how=\"left\", left_on=\"seller_id\", right_on=\"seller_id\")\r\n",
        "seller_fact_updated = pd.merge(seller_fact_updated, aggr_merged, how=\"left\", left_on=\"seller_id\", right_on=\"seller_id\")\r\n",
        "seller_fact_updated.head()"
      ],
      "execution_count": null,
      "outputs": [
        {
          "output_type": "execute_result",
          "data": {
            "text/plain": [
              "                          seller_id  num_sell  avg_approve_time  num_cancel  \\\n",
              "0  3442f8959a84dea7ee197c632cb2df15         3          0.000000           0   \n",
              "1  d1b65fc7debc3361ea86b5f14c68d2e2        41          7.609756           0   \n",
              "2  ce3ad9de960102d0677a81f5d0bb7b2d         1          0.000000           0   \n",
              "3  c0f3eea2e14555b6faeea3dd58c1b1c3         1          0.000000           0   \n",
              "4  51a04a8a6bdcb23deccc82b0b80742cf         1          0.000000           0   \n",
              "\n",
              "   total_sales  \n",
              "0     218700.0  \n",
              "1   11703070.0  \n",
              "2     158000.0  \n",
              "3      79990.0  \n",
              "4     167990.0  "
            ],
            "text/html": [
              "<div>\n",
              "<style scoped>\n",
              "    .dataframe tbody tr th:only-of-type {\n",
              "        vertical-align: middle;\n",
              "    }\n",
              "\n",
              "    .dataframe tbody tr th {\n",
              "        vertical-align: top;\n",
              "    }\n",
              "\n",
              "    .dataframe thead th {\n",
              "        text-align: right;\n",
              "    }\n",
              "</style>\n",
              "<table border=\"1\" class=\"dataframe\">\n",
              "  <thead>\n",
              "    <tr style=\"text-align: right;\">\n",
              "      <th></th>\n",
              "      <th>seller_id</th>\n",
              "      <th>num_sell</th>\n",
              "      <th>avg_approve_time</th>\n",
              "      <th>num_cancel</th>\n",
              "      <th>total_sales</th>\n",
              "    </tr>\n",
              "  </thead>\n",
              "  <tbody>\n",
              "    <tr>\n",
              "      <th>0</th>\n",
              "      <td>3442f8959a84dea7ee197c632cb2df15</td>\n",
              "      <td>3</td>\n",
              "      <td>0.000000</td>\n",
              "      <td>0</td>\n",
              "      <td>218700.0</td>\n",
              "    </tr>\n",
              "    <tr>\n",
              "      <th>1</th>\n",
              "      <td>d1b65fc7debc3361ea86b5f14c68d2e2</td>\n",
              "      <td>41</td>\n",
              "      <td>7.609756</td>\n",
              "      <td>0</td>\n",
              "      <td>11703070.0</td>\n",
              "    </tr>\n",
              "    <tr>\n",
              "      <th>2</th>\n",
              "      <td>ce3ad9de960102d0677a81f5d0bb7b2d</td>\n",
              "      <td>1</td>\n",
              "      <td>0.000000</td>\n",
              "      <td>0</td>\n",
              "      <td>158000.0</td>\n",
              "    </tr>\n",
              "    <tr>\n",
              "      <th>3</th>\n",
              "      <td>c0f3eea2e14555b6faeea3dd58c1b1c3</td>\n",
              "      <td>1</td>\n",
              "      <td>0.000000</td>\n",
              "      <td>0</td>\n",
              "      <td>79990.0</td>\n",
              "    </tr>\n",
              "    <tr>\n",
              "      <th>4</th>\n",
              "      <td>51a04a8a6bdcb23deccc82b0b80742cf</td>\n",
              "      <td>1</td>\n",
              "      <td>0.000000</td>\n",
              "      <td>0</td>\n",
              "      <td>167990.0</td>\n",
              "    </tr>\n",
              "  </tbody>\n",
              "</table>\n",
              "</div>"
            ]
          },
          "metadata": {
            "tags": []
          },
          "execution_count": 83
        }
      ]
    },
    {
      "cell_type": "markdown",
      "metadata": {
        "id": "WanmL4BdGlRY"
      },
      "source": [
        "## Datamart Output"
      ]
    },
    {
      "cell_type": "code",
      "metadata": {
        "id": "NwMOjAyAGnKh"
      },
      "source": [
        "cust_fact_updated.to_csv(\"data/processed/customer_fact.csv\", index=False)\r\n",
        "prod_fact_updated.to_csv(\"data/processed/product_fact.csv\", index=False)\r\n",
        "seller_fact_updated.to_csv(\"data/processed/seller_fact.csv\", index=False)"
      ],
      "execution_count": null,
      "outputs": []
    },
    {
      "cell_type": "code",
      "metadata": {
        "id": "ergV8gJmIRSb"
      },
      "source": [
        ""
      ],
      "execution_count": null,
      "outputs": []
    }
  ]
}